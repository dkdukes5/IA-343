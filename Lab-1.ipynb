{
 "cells": [
  {
   "cell_type": "code",
   "execution_count": 1,
   "id": "477cb51e-b483-40a9-ad9a-dd50e2e6854c",
   "metadata": {},
   "outputs": [],
   "source": [
    "# importing the data"
   ]
  },
  {
   "cell_type": "code",
   "execution_count": 3,
   "id": "e01063c2-7151-4b7b-9970-5d4f42faa694",
   "metadata": {},
   "outputs": [
    {
     "ename": "IndentationError",
     "evalue": "unexpected indent (2385388962.py, line 3)",
     "output_type": "error",
     "traceback": [
      "\u001b[0;36m  Cell \u001b[0;32mIn[3], line 3\u001b[0;36m\u001b[0m\n\u001b[0;31m    warnings.simplefilter('ignore')\u001b[0m\n\u001b[0m    ^\u001b[0m\n\u001b[0;31mIndentationError\u001b[0m\u001b[0;31m:\u001b[0m unexpected indent\n"
     ]
    }
   ],
   "source": [
    "import warnings, requests, zipfile, io\n",
    "\n",
    "warnings.simplefilter('ignore')\n",
    "\n",
    "    import pandas as pd\n",
    "\n",
    "    from scipy.io import arff"
   ]
  },
  {
   "cell_type": "code",
   "execution_count": 3,
   "id": "03dd2317-0f21-457b-846a-37bf29ec154a",
   "metadata": {},
   "outputs": [
    {
     "ename": "NameError",
     "evalue": "name 'requests' is not defined",
     "output_type": "error",
     "traceback": [
      "\u001b[0;31m---------------------------------------------------------------------------\u001b[0m",
      "\u001b[0;31mNameError\u001b[0m                                 Traceback (most recent call last)",
      "Cell \u001b[0;32mIn[3], line 3\u001b[0m\n\u001b[1;32m      1\u001b[0m f_zip \u001b[38;5;241m=\u001b[39m \u001b[38;5;124m'\u001b[39m\u001b[38;5;124mhttp://archive.ics.uci.edu/ml/machine-learning-databases/00212/vertebral_column_data.zip\u001b[39m\u001b[38;5;124m'\u001b[39m\n\u001b[0;32m----> 3\u001b[0m r \u001b[38;5;241m=\u001b[39m \u001b[43mrequests\u001b[49m\u001b[38;5;241m.\u001b[39mget(f_zip, stream\u001b[38;5;241m=\u001b[39m\u001b[38;5;28;01mTrue\u001b[39;00m)\n\u001b[1;32m      5\u001b[0m Vertebral_zip \u001b[38;5;241m=\u001b[39m zipfile\u001b[38;5;241m.\u001b[39mZipFile(io\u001b[38;5;241m.\u001b[39mBytesIO(r\u001b[38;5;241m.\u001b[39mcontent))\n\u001b[1;32m      7\u001b[0m Vertebral_zip\u001b[38;5;241m.\u001b[39mextractall()\n",
      "\u001b[0;31mNameError\u001b[0m: name 'requests' is not defined"
     ]
    }
   ],
   "source": [
    "    f_zip = 'http://archive.ics.uci.edu/ml/machine-learning-databases/00212/vertebral_column_data.zip'\n",
    "\n",
    "    r = requests.get(f_zip, stream=True)\n",
    "\n",
    "    Vertebral_zip = zipfile.ZipFile(io.BytesIO(r.content))\n",
    "\n",
    "    Vertebral_zip.extractall()"
   ]
  },
  {
   "cell_type": "code",
   "execution_count": 1,
   "id": "4c906d7d-0466-4c73-8498-ae5ea7f964e1",
   "metadata": {},
   "outputs": [
    {
     "ename": "NameError",
     "evalue": "name 'arff' is not defined",
     "output_type": "error",
     "traceback": [
      "\u001b[0;31m---------------------------------------------------------------------------\u001b[0m",
      "\u001b[0;31mNameError\u001b[0m                                 Traceback (most recent call last)",
      "Cell \u001b[0;32mIn[1], line 1\u001b[0m\n\u001b[0;32m----> 1\u001b[0m data \u001b[38;5;241m=\u001b[39m \u001b[43marff\u001b[49m\u001b[38;5;241m.\u001b[39mloadarff(\u001b[38;5;124m'\u001b[39m\u001b[38;5;124mcolumn_2C_weka.arff\u001b[39m\u001b[38;5;124m'\u001b[39m)\n\u001b[1;32m      3\u001b[0m df \u001b[38;5;241m=\u001b[39m pd\u001b[38;5;241m.\u001b[39mDataFrame(data[\u001b[38;5;241m0\u001b[39m])\n\u001b[1;32m      5\u001b[0m df\u001b[38;5;241m.\u001b[39mhead()\n",
      "\u001b[0;31mNameError\u001b[0m: name 'arff' is not defined"
     ]
    }
   ],
   "source": [
    "    data = arff.loadarff('column_2C_weka.arff')\n",
    "\n",
    "    df = pd.DataFrame(data[0])\n",
    "\n",
    "    df.head()"
   ]
  },
  {
   "cell_type": "code",
   "execution_count": null,
   "id": "e98411a8-6809-45b6-bf71-fee6bb338b91",
   "metadata": {},
   "outputs": [],
   "source": []
  }
 ],
 "metadata": {
  "kernelspec": {
   "display_name": "conda_python3",
   "language": "python",
   "name": "conda_python3"
  },
  "language_info": {
   "codemirror_mode": {
    "name": "ipython",
    "version": 3
   },
   "file_extension": ".py",
   "mimetype": "text/x-python",
   "name": "python",
   "nbconvert_exporter": "python",
   "pygments_lexer": "ipython3",
   "version": "3.10.18"
  }
 },
 "nbformat": 4,
 "nbformat_minor": 5
}
